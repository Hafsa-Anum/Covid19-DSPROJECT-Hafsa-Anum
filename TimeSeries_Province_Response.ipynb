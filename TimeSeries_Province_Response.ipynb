{
 "cells": [
  {
   "cell_type": "code",
   "execution_count": 1,
   "metadata": {},
   "outputs": [],
   "source": [
    "import pandas as pd\n",
    "import numpy as np"
   ]
  },
  {
   "cell_type": "code",
   "execution_count": 2,
   "metadata": {},
   "outputs": [],
   "source": [
    "df=pd.read_excel(\"D:\\TimeSeries_Province_Response.xlsx\")"
   ]
  },
  {
   "cell_type": "code",
   "execution_count": 3,
   "metadata": {},
   "outputs": [
    {
     "data": {
      "text/html": [
       "<div>\n",
       "<style scoped>\n",
       "    .dataframe tbody tr th:only-of-type {\n",
       "        vertical-align: middle;\n",
       "    }\n",
       "\n",
       "    .dataframe tbody tr th {\n",
       "        vertical-align: top;\n",
       "    }\n",
       "\n",
       "    .dataframe thead th {\n",
       "        text-align: right;\n",
       "    }\n",
       "</style>\n",
       "<table border=\"1\" class=\"dataframe\">\n",
       "  <thead>\n",
       "    <tr style=\"text-align: right;\">\n",
       "      <th></th>\n",
       "      <th>Unnamed: 0</th>\n",
       "      <th>region</th>\n",
       "      <th>Provinces Preparedness and Response</th>\n",
       "      <th>Date</th>\n",
       "      <th>Agg Provinces Preparedness and Response</th>\n",
       "    </tr>\n",
       "  </thead>\n",
       "  <tbody>\n",
       "    <tr>\n",
       "      <td>0</td>\n",
       "      <td>0</td>\n",
       "      <td>Balochistan</td>\n",
       "      <td>316 newly arrived individuals screened and qua...</td>\n",
       "      <td>11-Mar-2020</td>\n",
       "      <td>316 newly arrived individuals screened and qua...</td>\n",
       "    </tr>\n",
       "    <tr>\n",
       "      <td>1</td>\n",
       "      <td>1</td>\n",
       "      <td>Balochistan</td>\n",
       "      <td>14 Chinese nationals quarantined at East Bay E...</td>\n",
       "      <td>11-Mar-2020</td>\n",
       "      <td>316 newly arrived individuals screened and qua...</td>\n",
       "    </tr>\n",
       "    <tr>\n",
       "      <td>2</td>\n",
       "      <td>2</td>\n",
       "      <td>Sindh</td>\n",
       "      <td>Staff deployed to designated quarantine facili...</td>\n",
       "      <td>11-Mar-2020</td>\n",
       "      <td>Staff deployed to designated quarantine facili...</td>\n",
       "    </tr>\n",
       "    <tr>\n",
       "      <td>3</td>\n",
       "      <td>3</td>\n",
       "      <td>Sindh</td>\n",
       "      <td>Training and orientation sessions for the heal...</td>\n",
       "      <td>11-Mar-2020</td>\n",
       "      <td>Staff deployed to designated quarantine facili...</td>\n",
       "    </tr>\n",
       "    <tr>\n",
       "      <td>4</td>\n",
       "      <td>4</td>\n",
       "      <td>KP &amp; TD</td>\n",
       "      <td>24 High Dependency Units established across KP...</td>\n",
       "      <td>11-Mar-2020</td>\n",
       "      <td>24 High Dependency Units established across KP...</td>\n",
       "    </tr>\n",
       "  </tbody>\n",
       "</table>\n",
       "</div>"
      ],
      "text/plain": [
       "   Unnamed: 0       region                Provinces Preparedness and Response  \\\n",
       "0           0  Balochistan  316 newly arrived individuals screened and qua...   \n",
       "1           1  Balochistan  14 Chinese nationals quarantined at East Bay E...   \n",
       "2           2        Sindh  Staff deployed to designated quarantine facili...   \n",
       "3           3        Sindh  Training and orientation sessions for the heal...   \n",
       "4           4      KP & TD  24 High Dependency Units established across KP...   \n",
       "\n",
       "          Date            Agg Provinces Preparedness and Response  \n",
       "0  11-Mar-2020  316 newly arrived individuals screened and qua...  \n",
       "1  11-Mar-2020  316 newly arrived individuals screened and qua...  \n",
       "2  11-Mar-2020  Staff deployed to designated quarantine facili...  \n",
       "3  11-Mar-2020  Staff deployed to designated quarantine facili...  \n",
       "4  11-Mar-2020  24 High Dependency Units established across KP...  "
      ]
     },
     "execution_count": 3,
     "metadata": {},
     "output_type": "execute_result"
    }
   ],
   "source": [
    "df.head()"
   ]
  },
  {
   "cell_type": "code",
   "execution_count": 4,
   "metadata": {},
   "outputs": [],
   "source": [
    "df.drop('Unnamed: 0',axis=1,inplace=True)"
   ]
  },
  {
   "cell_type": "code",
   "execution_count": 5,
   "metadata": {},
   "outputs": [
    {
     "data": {
      "text/plain": [
       "region                                     0\n",
       "Provinces Preparedness and Response        0\n",
       "Date                                       0\n",
       "Agg Provinces Preparedness and Response    0\n",
       "dtype: int64"
      ]
     },
     "execution_count": 5,
     "metadata": {},
     "output_type": "execute_result"
    }
   ],
   "source": [
    "df.isnull().sum()"
   ]
  },
  {
   "cell_type": "code",
   "execution_count": 6,
   "metadata": {},
   "outputs": [
    {
     "data": {
      "text/plain": [
       "region                                     object\n",
       "Provinces Preparedness and Response        object\n",
       "Date                                       object\n",
       "Agg Provinces Preparedness and Response    object\n",
       "dtype: object"
      ]
     },
     "execution_count": 6,
     "metadata": {},
     "output_type": "execute_result"
    }
   ],
   "source": [
    "df.dtypes"
   ]
  },
  {
   "cell_type": "code",
   "execution_count": 7,
   "metadata": {},
   "outputs": [
    {
     "data": {
      "text/plain": [
       "0     2020-03-11\n",
       "1     2020-03-11\n",
       "2     2020-03-11\n",
       "3     2020-03-11\n",
       "4     2020-03-11\n",
       "         ...    \n",
       "161   2020-04-03\n",
       "162   2020-04-03\n",
       "163   2020-04-03\n",
       "164   2020-04-03\n",
       "165   2020-04-03\n",
       "Name: Date, Length: 166, dtype: datetime64[ns]"
      ]
     },
     "execution_count": 7,
     "metadata": {},
     "output_type": "execute_result"
    }
   ],
   "source": [
    "df['Date']=pd.to_datetime(df.Date)\n",
    "df['Date']"
   ]
  },
  {
   "cell_type": "code",
   "execution_count": 8,
   "metadata": {},
   "outputs": [
    {
     "data": {
      "text/plain": [
       "region                                             object\n",
       "Provinces Preparedness and Response                object\n",
       "Date                                       datetime64[ns]\n",
       "Agg Provinces Preparedness and Response            object\n",
       "dtype: object"
      ]
     },
     "execution_count": 8,
     "metadata": {},
     "output_type": "execute_result"
    }
   ],
   "source": [
    "df.dtypes"
   ]
  },
  {
   "cell_type": "code",
   "execution_count": 9,
   "metadata": {},
   "outputs": [],
   "source": [
    "df.columns=df.columns.str.strip().str.replace(' ','_')"
   ]
  },
  {
   "cell_type": "code",
   "execution_count": 10,
   "metadata": {},
   "outputs": [
    {
     "data": {
      "text/html": [
       "<div>\n",
       "<style scoped>\n",
       "    .dataframe tbody tr th:only-of-type {\n",
       "        vertical-align: middle;\n",
       "    }\n",
       "\n",
       "    .dataframe tbody tr th {\n",
       "        vertical-align: top;\n",
       "    }\n",
       "\n",
       "    .dataframe thead th {\n",
       "        text-align: right;\n",
       "    }\n",
       "</style>\n",
       "<table border=\"1\" class=\"dataframe\">\n",
       "  <thead>\n",
       "    <tr style=\"text-align: right;\">\n",
       "      <th></th>\n",
       "      <th>region</th>\n",
       "      <th>Provinces_Preparedness_and_Response</th>\n",
       "      <th>Date</th>\n",
       "      <th>Agg_Provinces_Preparedness_and_Response</th>\n",
       "    </tr>\n",
       "  </thead>\n",
       "  <tbody>\n",
       "    <tr>\n",
       "      <td>0</td>\n",
       "      <td>Balochistan</td>\n",
       "      <td>316 newly arrived individuals screened and qua...</td>\n",
       "      <td>2020-03-11</td>\n",
       "      <td>316 newly arrived individuals screened and qua...</td>\n",
       "    </tr>\n",
       "    <tr>\n",
       "      <td>1</td>\n",
       "      <td>Balochistan</td>\n",
       "      <td>14 Chinese nationals quarantined at East Bay E...</td>\n",
       "      <td>2020-03-11</td>\n",
       "      <td>316 newly arrived individuals screened and qua...</td>\n",
       "    </tr>\n",
       "    <tr>\n",
       "      <td>2</td>\n",
       "      <td>Sindh</td>\n",
       "      <td>Staff deployed to designated quarantine facili...</td>\n",
       "      <td>2020-03-11</td>\n",
       "      <td>Staff deployed to designated quarantine facili...</td>\n",
       "    </tr>\n",
       "    <tr>\n",
       "      <td>3</td>\n",
       "      <td>Sindh</td>\n",
       "      <td>Training and orientation sessions for the heal...</td>\n",
       "      <td>2020-03-11</td>\n",
       "      <td>Staff deployed to designated quarantine facili...</td>\n",
       "    </tr>\n",
       "    <tr>\n",
       "      <td>4</td>\n",
       "      <td>KP &amp; TD</td>\n",
       "      <td>24 High Dependency Units established across KP...</td>\n",
       "      <td>2020-03-11</td>\n",
       "      <td>24 High Dependency Units established across KP...</td>\n",
       "    </tr>\n",
       "  </tbody>\n",
       "</table>\n",
       "</div>"
      ],
      "text/plain": [
       "        region                Provinces_Preparedness_and_Response       Date  \\\n",
       "0  Balochistan  316 newly arrived individuals screened and qua... 2020-03-11   \n",
       "1  Balochistan  14 Chinese nationals quarantined at East Bay E... 2020-03-11   \n",
       "2        Sindh  Staff deployed to designated quarantine facili... 2020-03-11   \n",
       "3        Sindh  Training and orientation sessions for the heal... 2020-03-11   \n",
       "4      KP & TD  24 High Dependency Units established across KP... 2020-03-11   \n",
       "\n",
       "             Agg_Provinces_Preparedness_and_Response  \n",
       "0  316 newly arrived individuals screened and qua...  \n",
       "1  316 newly arrived individuals screened and qua...  \n",
       "2  Staff deployed to designated quarantine facili...  \n",
       "3  Staff deployed to designated quarantine facili...  \n",
       "4  24 High Dependency Units established across KP...  "
      ]
     },
     "execution_count": 10,
     "metadata": {},
     "output_type": "execute_result"
    }
   ],
   "source": [
    "df.head()"
   ]
  },
  {
   "cell_type": "code",
   "execution_count": 11,
   "metadata": {},
   "outputs": [
    {
     "name": "stdout",
     "output_type": "stream",
     "text": [
      "<class 'pandas.core.frame.DataFrame'>\n",
      "RangeIndex: 166 entries, 0 to 165\n",
      "Data columns (total 4 columns):\n",
      "region                                     166 non-null object\n",
      "Provinces_Preparedness_and_Response        166 non-null object\n",
      "Date                                       166 non-null datetime64[ns]\n",
      "Agg_Provinces_Preparedness_and_Response    166 non-null object\n",
      "dtypes: datetime64[ns](1), object(3)\n",
      "memory usage: 5.3+ KB\n"
     ]
    }
   ],
   "source": [
    "df.info()"
   ]
  },
  {
   "cell_type": "code",
   "execution_count": 14,
   "metadata": {},
   "outputs": [
    {
     "data": {
      "text/plain": [
       "False"
      ]
     },
     "execution_count": 14,
     "metadata": {},
     "output_type": "execute_result"
    }
   ],
   "source": [
    "df.duplicated().any()"
   ]
  },
  {
   "cell_type": "code",
   "execution_count": 12,
   "metadata": {},
   "outputs": [
    {
     "data": {
      "text/html": [
       "<div>\n",
       "<style scoped>\n",
       "    .dataframe tbody tr th:only-of-type {\n",
       "        vertical-align: middle;\n",
       "    }\n",
       "\n",
       "    .dataframe tbody tr th {\n",
       "        vertical-align: top;\n",
       "    }\n",
       "\n",
       "    .dataframe thead th {\n",
       "        text-align: right;\n",
       "    }\n",
       "</style>\n",
       "<table border=\"1\" class=\"dataframe\">\n",
       "  <thead>\n",
       "    <tr style=\"text-align: right;\">\n",
       "      <th></th>\n",
       "      <th>region</th>\n",
       "      <th>Provinces_Preparedness_and_Response</th>\n",
       "      <th>Date</th>\n",
       "      <th>Agg_Provinces_Preparedness_and_Response</th>\n",
       "    </tr>\n",
       "  </thead>\n",
       "  <tbody>\n",
       "    <tr>\n",
       "      <td>count</td>\n",
       "      <td>166</td>\n",
       "      <td>166</td>\n",
       "      <td>166</td>\n",
       "      <td>166</td>\n",
       "    </tr>\n",
       "    <tr>\n",
       "      <td>unique</td>\n",
       "      <td>8</td>\n",
       "      <td>155</td>\n",
       "      <td>24</td>\n",
       "      <td>131</td>\n",
       "    </tr>\n",
       "    <tr>\n",
       "      <td>top</td>\n",
       "      <td>Balochistan</td>\n",
       "      <td>Distribution of N95 masks across the province ...</td>\n",
       "      <td>2020-03-15 00:00:00</td>\n",
       "      <td>Involvement of WHO staff to provide support in...</td>\n",
       "    </tr>\n",
       "    <tr>\n",
       "      <td>freq</td>\n",
       "      <td>36</td>\n",
       "      <td>3</td>\n",
       "      <td>10</td>\n",
       "      <td>3</td>\n",
       "    </tr>\n",
       "    <tr>\n",
       "      <td>first</td>\n",
       "      <td>NaN</td>\n",
       "      <td>NaN</td>\n",
       "      <td>2020-03-11 00:00:00</td>\n",
       "      <td>NaN</td>\n",
       "    </tr>\n",
       "    <tr>\n",
       "      <td>last</td>\n",
       "      <td>NaN</td>\n",
       "      <td>NaN</td>\n",
       "      <td>2020-04-03 00:00:00</td>\n",
       "      <td>NaN</td>\n",
       "    </tr>\n",
       "  </tbody>\n",
       "</table>\n",
       "</div>"
      ],
      "text/plain": [
       "             region                Provinces_Preparedness_and_Response  \\\n",
       "count           166                                                166   \n",
       "unique            8                                                155   \n",
       "top     Balochistan  Distribution of N95 masks across the province ...   \n",
       "freq             36                                                  3   \n",
       "first           NaN                                                NaN   \n",
       "last            NaN                                                NaN   \n",
       "\n",
       "                       Date            Agg_Provinces_Preparedness_and_Response  \n",
       "count                   166                                                166  \n",
       "unique                   24                                                131  \n",
       "top     2020-03-15 00:00:00  Involvement of WHO staff to provide support in...  \n",
       "freq                     10                                                  3  \n",
       "first   2020-03-11 00:00:00                                                NaN  \n",
       "last    2020-04-03 00:00:00                                                NaN  "
      ]
     },
     "execution_count": 12,
     "metadata": {},
     "output_type": "execute_result"
    }
   ],
   "source": [
    "df.describe() # data is cleaned"
   ]
  },
  {
   "cell_type": "code",
   "execution_count": 15,
   "metadata": {},
   "outputs": [],
   "source": [
    "df.to_excel(\"D:\\TimeSeries_Province_Response.xlsx\")"
   ]
  },
  {
   "cell_type": "code",
   "execution_count": null,
   "metadata": {},
   "outputs": [],
   "source": []
  }
 ],
 "metadata": {
  "kernelspec": {
   "display_name": "Python 3",
   "language": "python",
   "name": "python3"
  },
  "language_info": {
   "codemirror_mode": {
    "name": "ipython",
    "version": 3
   },
   "file_extension": ".py",
   "mimetype": "text/x-python",
   "name": "python",
   "nbconvert_exporter": "python",
   "pygments_lexer": "ipython3",
   "version": "3.7.4"
  }
 },
 "nbformat": 4,
 "nbformat_minor": 2
}
