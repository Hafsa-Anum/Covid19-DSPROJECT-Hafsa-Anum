{
 "cells": [
  {
   "cell_type": "code",
   "execution_count": 1,
   "metadata": {},
   "outputs": [],
   "source": [
    "import pandas as pd\n",
    "import numpy as np"
   ]
  },
  {
   "cell_type": "code",
   "execution_count": 2,
   "metadata": {},
   "outputs": [],
   "source": [
    "df=pd.read_excel(\"D:\\TimeSeries_COVID_News.xlsx\")"
   ]
  },
  {
   "cell_type": "code",
   "execution_count": 3,
   "metadata": {},
   "outputs": [
    {
     "data": {
      "text/html": [
       "<div>\n",
       "<style scoped>\n",
       "    .dataframe tbody tr th:only-of-type {\n",
       "        vertical-align: middle;\n",
       "    }\n",
       "\n",
       "    .dataframe tbody tr th {\n",
       "        vertical-align: top;\n",
       "    }\n",
       "\n",
       "    .dataframe thead th {\n",
       "        text-align: right;\n",
       "    }\n",
       "</style>\n",
       "<table border=\"1\" class=\"dataframe\">\n",
       "  <thead>\n",
       "    <tr style=\"text-align: right;\">\n",
       "      <th></th>\n",
       "      <th>Unnamed: 0</th>\n",
       "      <th>Date</th>\n",
       "      <th>News</th>\n",
       "      <th>Agg News</th>\n",
       "    </tr>\n",
       "  </thead>\n",
       "  <tbody>\n",
       "    <tr>\n",
       "      <td>0</td>\n",
       "      <td>0</td>\n",
       "      <td>11-Mar-2020</td>\n",
       "      <td>Updates: Pakistan:</td>\n",
       "      <td>Updates: Pakistan: \\n Three new cases have bee...</td>\n",
       "    </tr>\n",
       "    <tr>\n",
       "      <td>1</td>\n",
       "      <td>1</td>\n",
       "      <td>11-Mar-2020</td>\n",
       "      <td>Three new cases have been confirmed in the pas...</td>\n",
       "      <td>Updates: Pakistan: \\n Three new cases have bee...</td>\n",
       "    </tr>\n",
       "    <tr>\n",
       "      <td>2</td>\n",
       "      <td>2</td>\n",
       "      <td>11-Mar-2020</td>\n",
       "      <td>Number of calls to passengers returning from I...</td>\n",
       "      <td>Updates: Pakistan: \\n Three new cases have bee...</td>\n",
       "    </tr>\n",
       "    <tr>\n",
       "      <td>3</td>\n",
       "      <td>3</td>\n",
       "      <td>11-Mar-2020</td>\n",
       "      <td>Global:</td>\n",
       "      <td>Updates: Pakistan: \\n Three new cases have bee...</td>\n",
       "    </tr>\n",
       "    <tr>\n",
       "      <td>4</td>\n",
       "      <td>4</td>\n",
       "      <td>11-Mar-2020</td>\n",
       "      <td>Total cases: 118,887,  Total Deaths: 4,290 •</td>\n",
       "      <td>Updates: Pakistan: \\n Three new cases have bee...</td>\n",
       "    </tr>\n",
       "    <tr>\n",
       "      <td>...</td>\n",
       "      <td>...</td>\n",
       "      <td>...</td>\n",
       "      <td>...</td>\n",
       "      <td>...</td>\n",
       "    </tr>\n",
       "    <tr>\n",
       "      <td>141</td>\n",
       "      <td>2</td>\n",
       "      <td>2020-04-03 00:00:00</td>\n",
       "      <td>2,450. Two deaths reported from Sindh. One dea...</td>\n",
       "      <td>Updates: Pakistan: \\n During last 24 hours, 15...</td>\n",
       "    </tr>\n",
       "    <tr>\n",
       "      <td>142</td>\n",
       "      <td>3</td>\n",
       "      <td>2020-04-03 00:00:00</td>\n",
       "      <td>deaths 35. •</td>\n",
       "      <td>Updates: Pakistan: \\n During last 24 hours, 15...</td>\n",
       "    </tr>\n",
       "    <tr>\n",
       "      <td>143</td>\n",
       "      <td>4</td>\n",
       "      <td>2020-04-03 00:00:00</td>\n",
       "      <td>Global:</td>\n",
       "      <td>Updates: Pakistan: \\n During last 24 hours, 15...</td>\n",
       "    </tr>\n",
       "    <tr>\n",
       "      <td>144</td>\n",
       "      <td>5</td>\n",
       "      <td>2020-04-03 00:00:00</td>\n",
       "      <td>Total cases:1,015,709 Total Deaths: 53,069 •</td>\n",
       "      <td>Updates: Pakistan: \\n During last 24 hours, 15...</td>\n",
       "    </tr>\n",
       "    <tr>\n",
       "      <td>145</td>\n",
       "      <td>6</td>\n",
       "      <td>2020-04-03 00:00:00</td>\n",
       "      <td>Total number of countries/regions affected: 181 •</td>\n",
       "      <td>Updates: Pakistan: \\n During last 24 hours, 15...</td>\n",
       "    </tr>\n",
       "  </tbody>\n",
       "</table>\n",
       "<p>146 rows × 4 columns</p>\n",
       "</div>"
      ],
      "text/plain": [
       "     Unnamed: 0                 Date  \\\n",
       "0             0          11-Mar-2020   \n",
       "1             1          11-Mar-2020   \n",
       "2             2          11-Mar-2020   \n",
       "3             3          11-Mar-2020   \n",
       "4             4          11-Mar-2020   \n",
       "..          ...                  ...   \n",
       "141           2  2020-04-03 00:00:00   \n",
       "142           3  2020-04-03 00:00:00   \n",
       "143           4  2020-04-03 00:00:00   \n",
       "144           5  2020-04-03 00:00:00   \n",
       "145           6  2020-04-03 00:00:00   \n",
       "\n",
       "                                                  News  \\\n",
       "0                                   Updates: Pakistan:   \n",
       "1    Three new cases have been confirmed in the pas...   \n",
       "2    Number of calls to passengers returning from I...   \n",
       "3                                              Global:   \n",
       "4         Total cases: 118,887,  Total Deaths: 4,290 •   \n",
       "..                                                 ...   \n",
       "141  2,450. Two deaths reported from Sindh. One dea...   \n",
       "142                                       deaths 35. •   \n",
       "143                                            Global:   \n",
       "144       Total cases:1,015,709 Total Deaths: 53,069 •   \n",
       "145  Total number of countries/regions affected: 181 •   \n",
       "\n",
       "                                              Agg News  \n",
       "0    Updates: Pakistan: \\n Three new cases have bee...  \n",
       "1    Updates: Pakistan: \\n Three new cases have bee...  \n",
       "2    Updates: Pakistan: \\n Three new cases have bee...  \n",
       "3    Updates: Pakistan: \\n Three new cases have bee...  \n",
       "4    Updates: Pakistan: \\n Three new cases have bee...  \n",
       "..                                                 ...  \n",
       "141  Updates: Pakistan: \\n During last 24 hours, 15...  \n",
       "142  Updates: Pakistan: \\n During last 24 hours, 15...  \n",
       "143  Updates: Pakistan: \\n During last 24 hours, 15...  \n",
       "144  Updates: Pakistan: \\n During last 24 hours, 15...  \n",
       "145  Updates: Pakistan: \\n During last 24 hours, 15...  \n",
       "\n",
       "[146 rows x 4 columns]"
      ]
     },
     "execution_count": 3,
     "metadata": {},
     "output_type": "execute_result"
    }
   ],
   "source": [
    "df"
   ]
  },
  {
   "cell_type": "code",
   "execution_count": 4,
   "metadata": {},
   "outputs": [],
   "source": [
    "df.drop('Unnamed: 0',axis=1,inplace=True)"
   ]
  },
  {
   "cell_type": "code",
   "execution_count": 5,
   "metadata": {},
   "outputs": [
    {
     "data": {
      "text/html": [
       "<div>\n",
       "<style scoped>\n",
       "    .dataframe tbody tr th:only-of-type {\n",
       "        vertical-align: middle;\n",
       "    }\n",
       "\n",
       "    .dataframe tbody tr th {\n",
       "        vertical-align: top;\n",
       "    }\n",
       "\n",
       "    .dataframe thead th {\n",
       "        text-align: right;\n",
       "    }\n",
       "</style>\n",
       "<table border=\"1\" class=\"dataframe\">\n",
       "  <thead>\n",
       "    <tr style=\"text-align: right;\">\n",
       "      <th></th>\n",
       "      <th>Date</th>\n",
       "      <th>News</th>\n",
       "      <th>Agg News</th>\n",
       "    </tr>\n",
       "  </thead>\n",
       "  <tbody>\n",
       "    <tr>\n",
       "      <td>0</td>\n",
       "      <td>11-Mar-2020</td>\n",
       "      <td>Updates: Pakistan:</td>\n",
       "      <td>Updates: Pakistan: \\n Three new cases have bee...</td>\n",
       "    </tr>\n",
       "    <tr>\n",
       "      <td>1</td>\n",
       "      <td>11-Mar-2020</td>\n",
       "      <td>Three new cases have been confirmed in the pas...</td>\n",
       "      <td>Updates: Pakistan: \\n Three new cases have bee...</td>\n",
       "    </tr>\n",
       "    <tr>\n",
       "      <td>2</td>\n",
       "      <td>11-Mar-2020</td>\n",
       "      <td>Number of calls to passengers returning from I...</td>\n",
       "      <td>Updates: Pakistan: \\n Three new cases have bee...</td>\n",
       "    </tr>\n",
       "    <tr>\n",
       "      <td>3</td>\n",
       "      <td>11-Mar-2020</td>\n",
       "      <td>Global:</td>\n",
       "      <td>Updates: Pakistan: \\n Three new cases have bee...</td>\n",
       "    </tr>\n",
       "    <tr>\n",
       "      <td>4</td>\n",
       "      <td>11-Mar-2020</td>\n",
       "      <td>Total cases: 118,887,  Total Deaths: 4,290 •</td>\n",
       "      <td>Updates: Pakistan: \\n Three new cases have bee...</td>\n",
       "    </tr>\n",
       "    <tr>\n",
       "      <td>...</td>\n",
       "      <td>...</td>\n",
       "      <td>...</td>\n",
       "      <td>...</td>\n",
       "    </tr>\n",
       "    <tr>\n",
       "      <td>141</td>\n",
       "      <td>2020-04-03 00:00:00</td>\n",
       "      <td>2,450. Two deaths reported from Sindh. One dea...</td>\n",
       "      <td>Updates: Pakistan: \\n During last 24 hours, 15...</td>\n",
       "    </tr>\n",
       "    <tr>\n",
       "      <td>142</td>\n",
       "      <td>2020-04-03 00:00:00</td>\n",
       "      <td>deaths 35. •</td>\n",
       "      <td>Updates: Pakistan: \\n During last 24 hours, 15...</td>\n",
       "    </tr>\n",
       "    <tr>\n",
       "      <td>143</td>\n",
       "      <td>2020-04-03 00:00:00</td>\n",
       "      <td>Global:</td>\n",
       "      <td>Updates: Pakistan: \\n During last 24 hours, 15...</td>\n",
       "    </tr>\n",
       "    <tr>\n",
       "      <td>144</td>\n",
       "      <td>2020-04-03 00:00:00</td>\n",
       "      <td>Total cases:1,015,709 Total Deaths: 53,069 •</td>\n",
       "      <td>Updates: Pakistan: \\n During last 24 hours, 15...</td>\n",
       "    </tr>\n",
       "    <tr>\n",
       "      <td>145</td>\n",
       "      <td>2020-04-03 00:00:00</td>\n",
       "      <td>Total number of countries/regions affected: 181 •</td>\n",
       "      <td>Updates: Pakistan: \\n During last 24 hours, 15...</td>\n",
       "    </tr>\n",
       "  </tbody>\n",
       "</table>\n",
       "<p>146 rows × 3 columns</p>\n",
       "</div>"
      ],
      "text/plain": [
       "                    Date                                               News  \\\n",
       "0            11-Mar-2020                                 Updates: Pakistan:   \n",
       "1            11-Mar-2020  Three new cases have been confirmed in the pas...   \n",
       "2            11-Mar-2020  Number of calls to passengers returning from I...   \n",
       "3            11-Mar-2020                                            Global:   \n",
       "4            11-Mar-2020       Total cases: 118,887,  Total Deaths: 4,290 •   \n",
       "..                   ...                                                ...   \n",
       "141  2020-04-03 00:00:00  2,450. Two deaths reported from Sindh. One dea...   \n",
       "142  2020-04-03 00:00:00                                       deaths 35. •   \n",
       "143  2020-04-03 00:00:00                                            Global:   \n",
       "144  2020-04-03 00:00:00       Total cases:1,015,709 Total Deaths: 53,069 •   \n",
       "145  2020-04-03 00:00:00  Total number of countries/regions affected: 181 •   \n",
       "\n",
       "                                              Agg News  \n",
       "0    Updates: Pakistan: \\n Three new cases have bee...  \n",
       "1    Updates: Pakistan: \\n Three new cases have bee...  \n",
       "2    Updates: Pakistan: \\n Three new cases have bee...  \n",
       "3    Updates: Pakistan: \\n Three new cases have bee...  \n",
       "4    Updates: Pakistan: \\n Three new cases have bee...  \n",
       "..                                                 ...  \n",
       "141  Updates: Pakistan: \\n During last 24 hours, 15...  \n",
       "142  Updates: Pakistan: \\n During last 24 hours, 15...  \n",
       "143  Updates: Pakistan: \\n During last 24 hours, 15...  \n",
       "144  Updates: Pakistan: \\n During last 24 hours, 15...  \n",
       "145  Updates: Pakistan: \\n During last 24 hours, 15...  \n",
       "\n",
       "[146 rows x 3 columns]"
      ]
     },
     "execution_count": 5,
     "metadata": {},
     "output_type": "execute_result"
    }
   ],
   "source": [
    "df"
   ]
  },
  {
   "cell_type": "code",
   "execution_count": 16,
   "metadata": {},
   "outputs": [],
   "source": [
    "df.rename(columns={'Agg News':'Agg_News'},inplace=True)"
   ]
  },
  {
   "cell_type": "code",
   "execution_count": 17,
   "metadata": {},
   "outputs": [],
   "source": [
    "df['Date']=pd.to_datetime(df.Date)"
   ]
  },
  {
   "cell_type": "code",
   "execution_count": 18,
   "metadata": {},
   "outputs": [
    {
     "data": {
      "text/plain": [
       "0     2020-03-11\n",
       "1     2020-03-11\n",
       "2     2020-03-11\n",
       "3     2020-03-11\n",
       "4     2020-03-11\n",
       "         ...    \n",
       "141   2020-04-03\n",
       "142   2020-04-03\n",
       "143   2020-04-03\n",
       "144   2020-04-03\n",
       "145   2020-04-03\n",
       "Name: Date, Length: 146, dtype: datetime64[ns]"
      ]
     },
     "execution_count": 18,
     "metadata": {},
     "output_type": "execute_result"
    }
   ],
   "source": [
    "df['Date']"
   ]
  },
  {
   "cell_type": "code",
   "execution_count": 19,
   "metadata": {},
   "outputs": [
    {
     "data": {
      "text/plain": [
       "Date        datetime64[ns]\n",
       "News                object\n",
       "Agg_News            object\n",
       "dtype: object"
      ]
     },
     "execution_count": 19,
     "metadata": {},
     "output_type": "execute_result"
    }
   ],
   "source": [
    "df.dtypes"
   ]
  },
  {
   "cell_type": "code",
   "execution_count": 20,
   "metadata": {},
   "outputs": [
    {
     "data": {
      "text/plain": [
       "Date        0\n",
       "News        0\n",
       "Agg_News    0\n",
       "dtype: int64"
      ]
     },
     "execution_count": 20,
     "metadata": {},
     "output_type": "execute_result"
    }
   ],
   "source": [
    "df.isnull().sum()"
   ]
  },
  {
   "cell_type": "code",
   "execution_count": 21,
   "metadata": {},
   "outputs": [
    {
     "data": {
      "text/plain": [
       "RangeIndex(start=0, stop=146, step=1)"
      ]
     },
     "execution_count": 21,
     "metadata": {},
     "output_type": "execute_result"
    }
   ],
   "source": [
    "df.index"
   ]
  },
  {
   "cell_type": "code",
   "execution_count": 22,
   "metadata": {},
   "outputs": [
    {
     "data": {
      "text/plain": [
       "Index(['Date', 'News', 'Agg_News'], dtype='object')"
      ]
     },
     "execution_count": 22,
     "metadata": {},
     "output_type": "execute_result"
    }
   ],
   "source": [
    "df.columns"
   ]
  },
  {
   "cell_type": "code",
   "execution_count": 23,
   "metadata": {},
   "outputs": [
    {
     "data": {
      "text/html": [
       "<div>\n",
       "<style scoped>\n",
       "    .dataframe tbody tr th:only-of-type {\n",
       "        vertical-align: middle;\n",
       "    }\n",
       "\n",
       "    .dataframe tbody tr th {\n",
       "        vertical-align: top;\n",
       "    }\n",
       "\n",
       "    .dataframe thead th {\n",
       "        text-align: right;\n",
       "    }\n",
       "</style>\n",
       "<table border=\"1\" class=\"dataframe\">\n",
       "  <thead>\n",
       "    <tr style=\"text-align: right;\">\n",
       "      <th></th>\n",
       "      <th>Date</th>\n",
       "      <th>News</th>\n",
       "      <th>Agg_News</th>\n",
       "    </tr>\n",
       "  </thead>\n",
       "  <tbody>\n",
       "    <tr>\n",
       "      <td>count</td>\n",
       "      <td>146</td>\n",
       "      <td>146</td>\n",
       "      <td>146</td>\n",
       "    </tr>\n",
       "    <tr>\n",
       "      <td>unique</td>\n",
       "      <td>24</td>\n",
       "      <td>97</td>\n",
       "      <td>24</td>\n",
       "    </tr>\n",
       "    <tr>\n",
       "      <td>top</td>\n",
       "      <td>2020-04-03 00:00:00</td>\n",
       "      <td>Updates: Pakistan:</td>\n",
       "      <td>Updates: Pakistan: \\n During last 24 hours, 15...</td>\n",
       "    </tr>\n",
       "    <tr>\n",
       "      <td>freq</td>\n",
       "      <td>7</td>\n",
       "      <td>24</td>\n",
       "      <td>7</td>\n",
       "    </tr>\n",
       "    <tr>\n",
       "      <td>first</td>\n",
       "      <td>2020-03-11 00:00:00</td>\n",
       "      <td>NaN</td>\n",
       "      <td>NaN</td>\n",
       "    </tr>\n",
       "    <tr>\n",
       "      <td>last</td>\n",
       "      <td>2020-04-03 00:00:00</td>\n",
       "      <td>NaN</td>\n",
       "      <td>NaN</td>\n",
       "    </tr>\n",
       "  </tbody>\n",
       "</table>\n",
       "</div>"
      ],
      "text/plain": [
       "                       Date                News  \\\n",
       "count                   146                 146   \n",
       "unique                   24                  97   \n",
       "top     2020-04-03 00:00:00  Updates: Pakistan:   \n",
       "freq                      7                  24   \n",
       "first   2020-03-11 00:00:00                 NaN   \n",
       "last    2020-04-03 00:00:00                 NaN   \n",
       "\n",
       "                                                 Agg_News  \n",
       "count                                                 146  \n",
       "unique                                                 24  \n",
       "top     Updates: Pakistan: \\n During last 24 hours, 15...  \n",
       "freq                                                    7  \n",
       "first                                                 NaN  \n",
       "last                                                  NaN  "
      ]
     },
     "execution_count": 23,
     "metadata": {},
     "output_type": "execute_result"
    }
   ],
   "source": [
    "df.describe()"
   ]
  },
  {
   "cell_type": "code",
   "execution_count": 24,
   "metadata": {},
   "outputs": [],
   "source": [
    "df.to_excel('D:\\TimeSeries_COVID_News.xlsx')"
   ]
  },
  {
   "cell_type": "code",
   "execution_count": null,
   "metadata": {},
   "outputs": [],
   "source": []
  }
 ],
 "metadata": {
  "kernelspec": {
   "display_name": "Python 3",
   "language": "python",
   "name": "python3"
  },
  "language_info": {
   "codemirror_mode": {
    "name": "ipython",
    "version": 3
   },
   "file_extension": ".py",
   "mimetype": "text/x-python",
   "name": "python",
   "nbconvert_exporter": "python",
   "pygments_lexer": "ipython3",
   "version": "3.7.4"
  }
 },
 "nbformat": 4,
 "nbformat_minor": 2
}
