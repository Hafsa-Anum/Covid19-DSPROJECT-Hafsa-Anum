{
 "cells": [
  {
   "cell_type": "code",
   "execution_count": 27,
   "metadata": {},
   "outputs": [],
   "source": [
    "import numpy as np\n",
    "import pandas as pd"
   ]
  },
  {
   "cell_type": "code",
   "execution_count": 28,
   "metadata": {},
   "outputs": [],
   "source": [
    "df = pd.read_excel(\"D:\\TimeSeries_Action_Call.xlsx\")"
   ]
  },
  {
   "cell_type": "code",
   "execution_count": 29,
   "metadata": {},
   "outputs": [
    {
     "data": {
      "text/html": [
       "<div>\n",
       "<style scoped>\n",
       "    .dataframe tbody tr th:only-of-type {\n",
       "        vertical-align: middle;\n",
       "    }\n",
       "\n",
       "    .dataframe tbody tr th {\n",
       "        vertical-align: top;\n",
       "    }\n",
       "\n",
       "    .dataframe thead th {\n",
       "        text-align: right;\n",
       "    }\n",
       "</style>\n",
       "<table border=\"1\" class=\"dataframe\">\n",
       "  <thead>\n",
       "    <tr style=\"text-align: right;\">\n",
       "      <th></th>\n",
       "      <th>number</th>\n",
       "      <th>Returnees</th>\n",
       "      <th>Advised_Self_Quarantine</th>\n",
       "      <th>Cumulative_no_offirst_time_calls</th>\n",
       "      <th>Cumulative_follow_up_calls</th>\n",
       "      <th>Date</th>\n",
       "      <th>First_time_calls_inpast_24_hrs</th>\n",
       "      <th>Follow_up_calls_inpast_24_hrs</th>\n",
       "    </tr>\n",
       "  </thead>\n",
       "  <tbody>\n",
       "    <tr>\n",
       "      <td>0</td>\n",
       "      <td>0</td>\n",
       "      <td>Returnees from Iran</td>\n",
       "      <td>0</td>\n",
       "      <td>9459</td>\n",
       "      <td>2553</td>\n",
       "      <td>2020-03-11</td>\n",
       "      <td>0</td>\n",
       "      <td>353</td>\n",
       "    </tr>\n",
       "    <tr>\n",
       "      <td>1</td>\n",
       "      <td>1</td>\n",
       "      <td>Returnees from China</td>\n",
       "      <td>11</td>\n",
       "      <td>5342</td>\n",
       "      <td>7746</td>\n",
       "      <td>2020-03-11</td>\n",
       "      <td>17</td>\n",
       "      <td>400</td>\n",
       "    </tr>\n",
       "    <tr>\n",
       "      <td>2</td>\n",
       "      <td>2</td>\n",
       "      <td>Returnees from Iran</td>\n",
       "      <td>14</td>\n",
       "      <td>9475</td>\n",
       "      <td>3221</td>\n",
       "      <td>2020-03-12</td>\n",
       "      <td>16</td>\n",
       "      <td>668</td>\n",
       "    </tr>\n",
       "    <tr>\n",
       "      <td>3</td>\n",
       "      <td>3</td>\n",
       "      <td>Returnees from China</td>\n",
       "      <td>7</td>\n",
       "      <td>5352</td>\n",
       "      <td>7855</td>\n",
       "      <td>2020-03-12</td>\n",
       "      <td>10</td>\n",
       "      <td>109</td>\n",
       "    </tr>\n",
       "    <tr>\n",
       "      <td>4</td>\n",
       "      <td>4</td>\n",
       "      <td>Returnees from Iran</td>\n",
       "      <td>0</td>\n",
       "      <td>9475</td>\n",
       "      <td>3853</td>\n",
       "      <td>2020-03-13</td>\n",
       "      <td>0</td>\n",
       "      <td>632</td>\n",
       "    </tr>\n",
       "  </tbody>\n",
       "</table>\n",
       "</div>"
      ],
      "text/plain": [
       "   number             Returnees  Advised_Self_Quarantine  \\\n",
       "0       0   Returnees from Iran                        0   \n",
       "1       1  Returnees from China                       11   \n",
       "2       2   Returnees from Iran                       14   \n",
       "3       3  Returnees from China                        7   \n",
       "4       4   Returnees from Iran                        0   \n",
       "\n",
       "   Cumulative_no_offirst_time_calls  Cumulative_follow_up_calls       Date  \\\n",
       "0                              9459                        2553 2020-03-11   \n",
       "1                              5342                        7746 2020-03-11   \n",
       "2                              9475                        3221 2020-03-12   \n",
       "3                              5352                        7855 2020-03-12   \n",
       "4                              9475                        3853 2020-03-13   \n",
       "\n",
       "   First_time_calls_inpast_24_hrs  Follow_up_calls_inpast_24_hrs  \n",
       "0                               0                            353  \n",
       "1                              17                            400  \n",
       "2                              16                            668  \n",
       "3                              10                            109  \n",
       "4                               0                            632  "
      ]
     },
     "execution_count": 29,
     "metadata": {},
     "output_type": "execute_result"
    }
   ],
   "source": [
    "df.head()"
   ]
  },
  {
   "cell_type": "code",
   "execution_count": 30,
   "metadata": {},
   "outputs": [],
   "source": [
    "df.rename(columns = {'Advised Self-Quarantine':'Advised_Self_Quarantine','Cumulative no offirst-time calls':'Cumulative_no_offirst_time_calls',\n",
    "                   'Cumulativefollow-up calls':'Cumulative_follow_up_calls','First-time calls inpast 24 hrs':'First_time_calls_inpast_24_hrs',\n",
    "                    'Follow-up calls inpast 24 hrs':'Follow_up_calls_inpast_24_hrs'\n",
    "                    },inplace=True)"
   ]
  },
  {
   "cell_type": "code",
   "execution_count": 33,
   "metadata": {},
   "outputs": [],
   "source": [
    "df.drop('number',axis=1,inplace=True)"
   ]
  },
  {
   "cell_type": "code",
   "execution_count": 34,
   "metadata": {},
   "outputs": [
    {
     "data": {
      "text/html": [
       "<div>\n",
       "<style scoped>\n",
       "    .dataframe tbody tr th:only-of-type {\n",
       "        vertical-align: middle;\n",
       "    }\n",
       "\n",
       "    .dataframe tbody tr th {\n",
       "        vertical-align: top;\n",
       "    }\n",
       "\n",
       "    .dataframe thead th {\n",
       "        text-align: right;\n",
       "    }\n",
       "</style>\n",
       "<table border=\"1\" class=\"dataframe\">\n",
       "  <thead>\n",
       "    <tr style=\"text-align: right;\">\n",
       "      <th></th>\n",
       "      <th>Returnees</th>\n",
       "      <th>Advised_Self_Quarantine</th>\n",
       "      <th>Cumulative_no_offirst_time_calls</th>\n",
       "      <th>Cumulative_follow_up_calls</th>\n",
       "      <th>Date</th>\n",
       "      <th>First_time_calls_inpast_24_hrs</th>\n",
       "      <th>Follow_up_calls_inpast_24_hrs</th>\n",
       "    </tr>\n",
       "  </thead>\n",
       "  <tbody>\n",
       "    <tr>\n",
       "      <td>0</td>\n",
       "      <td>Returnees from Iran</td>\n",
       "      <td>0</td>\n",
       "      <td>9459</td>\n",
       "      <td>2553</td>\n",
       "      <td>2020-03-11</td>\n",
       "      <td>0</td>\n",
       "      <td>353</td>\n",
       "    </tr>\n",
       "    <tr>\n",
       "      <td>1</td>\n",
       "      <td>Returnees from China</td>\n",
       "      <td>11</td>\n",
       "      <td>5342</td>\n",
       "      <td>7746</td>\n",
       "      <td>2020-03-11</td>\n",
       "      <td>17</td>\n",
       "      <td>400</td>\n",
       "    </tr>\n",
       "    <tr>\n",
       "      <td>2</td>\n",
       "      <td>Returnees from Iran</td>\n",
       "      <td>14</td>\n",
       "      <td>9475</td>\n",
       "      <td>3221</td>\n",
       "      <td>2020-03-12</td>\n",
       "      <td>16</td>\n",
       "      <td>668</td>\n",
       "    </tr>\n",
       "    <tr>\n",
       "      <td>3</td>\n",
       "      <td>Returnees from China</td>\n",
       "      <td>7</td>\n",
       "      <td>5352</td>\n",
       "      <td>7855</td>\n",
       "      <td>2020-03-12</td>\n",
       "      <td>10</td>\n",
       "      <td>109</td>\n",
       "    </tr>\n",
       "    <tr>\n",
       "      <td>4</td>\n",
       "      <td>Returnees from Iran</td>\n",
       "      <td>0</td>\n",
       "      <td>9475</td>\n",
       "      <td>3853</td>\n",
       "      <td>2020-03-13</td>\n",
       "      <td>0</td>\n",
       "      <td>632</td>\n",
       "    </tr>\n",
       "  </tbody>\n",
       "</table>\n",
       "</div>"
      ],
      "text/plain": [
       "              Returnees  Advised_Self_Quarantine  \\\n",
       "0   Returnees from Iran                        0   \n",
       "1  Returnees from China                       11   \n",
       "2   Returnees from Iran                       14   \n",
       "3  Returnees from China                        7   \n",
       "4   Returnees from Iran                        0   \n",
       "\n",
       "   Cumulative_no_offirst_time_calls  Cumulative_follow_up_calls       Date  \\\n",
       "0                              9459                        2553 2020-03-11   \n",
       "1                              5342                        7746 2020-03-11   \n",
       "2                              9475                        3221 2020-03-12   \n",
       "3                              5352                        7855 2020-03-12   \n",
       "4                              9475                        3853 2020-03-13   \n",
       "\n",
       "   First_time_calls_inpast_24_hrs  Follow_up_calls_inpast_24_hrs  \n",
       "0                               0                            353  \n",
       "1                              17                            400  \n",
       "2                              16                            668  \n",
       "3                              10                            109  \n",
       "4                               0                            632  "
      ]
     },
     "execution_count": 34,
     "metadata": {},
     "output_type": "execute_result"
    }
   ],
   "source": [
    "df.head()"
   ]
  },
  {
   "cell_type": "code",
   "execution_count": 35,
   "metadata": {},
   "outputs": [
    {
     "data": {
      "text/plain": [
       "RangeIndex(start=0, stop=40, step=1)"
      ]
     },
     "execution_count": 35,
     "metadata": {},
     "output_type": "execute_result"
    }
   ],
   "source": [
    "df.index"
   ]
  },
  {
   "cell_type": "code",
   "execution_count": 36,
   "metadata": {},
   "outputs": [
    {
     "data": {
      "text/plain": [
       "Index(['Returnees', 'Advised_Self_Quarantine',\n",
       "       'Cumulative_no_offirst_time_calls', 'Cumulative_follow_up_calls',\n",
       "       'Date', 'First_time_calls_inpast_24_hrs',\n",
       "       'Follow_up_calls_inpast_24_hrs'],\n",
       "      dtype='object')"
      ]
     },
     "execution_count": 36,
     "metadata": {},
     "output_type": "execute_result"
    }
   ],
   "source": [
    "df.columns"
   ]
  },
  {
   "cell_type": "code",
   "execution_count": 37,
   "metadata": {},
   "outputs": [
    {
     "data": {
      "text/plain": [
       "array([['Returnees from Iran', 0, 9459, 2553,\n",
       "        Timestamp('2020-03-11 00:00:00'), 0, 353],\n",
       "       ['Returnees from China', 11, 5342, 7746,\n",
       "        Timestamp('2020-03-11 00:00:00'), 17, 400],\n",
       "       ['Returnees from Iran', 14, 9475, 3221,\n",
       "        Timestamp('2020-03-12 00:00:00'), 16, 668],\n",
       "       ['Returnees from China', 7, 5352, 7855,\n",
       "        Timestamp('2020-03-12 00:00:00'), 10, 109],\n",
       "       ['Returnees from Iran', 0, 9475, 3853,\n",
       "        Timestamp('2020-03-13 00:00:00'), 0, 632],\n",
       "       ['Returnees from China', 10, 5362, 8041,\n",
       "        Timestamp('2020-03-13 00:00:00'), 10, 186],\n",
       "       ['Returnees from Iran', 3, 9480, 4182,\n",
       "        Timestamp('2020-03-14 00:00:00'), 5, 329],\n",
       "       ['Returnees from China', 5, 5370, 8083,\n",
       "        Timestamp('2020-03-14 00:00:00'), 8, 42],\n",
       "       ['Returnees from Iran', 0, 9480, 4625,\n",
       "        Timestamp('2020-03-15 00:00:00'), 0, 443],\n",
       "       ['Returnees from China', 0, 5370, 8160,\n",
       "        Timestamp('2020-03-15 00:00:00'), 0, 77],\n",
       "       ['Returnees from Iran', 3, 9488, 4625,\n",
       "        Timestamp('2020-03-16 00:00:00'), 8, 0],\n",
       "       ['Returnees from China', 11, 5394, 8160,\n",
       "        Timestamp('2020-03-16 00:00:00'), 24, 0],\n",
       "       ['Returnees from Iran', 0, 9488, 5063,\n",
       "        Timestamp('2020-03-17 00:00:00'), 0, 438],\n",
       "       ['Returnees from China', 13, 5413, 8180,\n",
       "        Timestamp('2020-03-17 00:00:00'), 19, 20],\n",
       "       ['Returnees from Iran', 0, 9488, 5337,\n",
       "        Timestamp('2020-03-18 00:00:00'), 0, 274],\n",
       "       ['Returnees from China', 16, 5439, 8899,\n",
       "        Timestamp('2020-03-18 00:00:00'), 26, 719],\n",
       "       ['Returnees from Iran', 0, 9488, 5337,\n",
       "        Timestamp('2020-03-19 00:00:00'), 0, 32],\n",
       "       ['Returnees from China', 0, 5441, 9392,\n",
       "        Timestamp('2020-03-19 00:00:00'), 2, 493],\n",
       "       ['Returnees from Iran', 0, 9488, 5623,\n",
       "        Timestamp('2020-03-20 00:00:00'), 0, 286],\n",
       "       ['Returnees from China', 8, 5458, 9392,\n",
       "        Timestamp('2020-03-20 00:00:00'), 17, 0],\n",
       "       ['Returnees from Iran', 1, 9489, 5977,\n",
       "        Timestamp('2020-03-21 00:00:00'), 1, 354],\n",
       "       ['Returnees from China', 1, 5462, 9658,\n",
       "        Timestamp('2020-03-21 00:00:00'), 4, 266],\n",
       "       ['Returnees from Iran', 0, 9489, 6116,\n",
       "        Timestamp('2020-03-22 00:00:00'), 0, 139],\n",
       "       ['Returnees from China', 3, 5473, 10109,\n",
       "        Timestamp('2020-03-22 00:00:00'), 11, 451],\n",
       "       ['Returnees from Iran', 0, 9489, 6289,\n",
       "        Timestamp('2020-03-23 00:00:00'), 0, 173],\n",
       "       ['Returnees from China', 1, 5474, 10451,\n",
       "        Timestamp('2020-03-23 00:00:00'), 1, 342],\n",
       "       ['Returnees from Iran', 0, 9489, 6289,\n",
       "        Timestamp('2020-03-24 00:00:00'), 0, 0],\n",
       "       ['Returnees from China', 0, 5474, 10875,\n",
       "        Timestamp('2020-03-24 00:00:00'), 0, 424],\n",
       "       ['Returnees from Iran', 0, 9489, 6474,\n",
       "        Timestamp('2020-03-25 00:00:00'), 0, 185],\n",
       "       ['Returnees from China', 0, 5474, 11110,\n",
       "        Timestamp('2020-03-25 00:00:00'), 0, 235],\n",
       "       ['Returnees from Iran', 0, 9489, 6890,\n",
       "        Timestamp('2020-03-26 00:00:00'), 0, 416],\n",
       "       ['Returnees from China', 0, 5474, 11460,\n",
       "        Timestamp('2020-03-26 00:00:00'), 0, 350],\n",
       "       ['Returnees from Iran', 0, 9489, 6923,\n",
       "        Timestamp('2020-03-27 00:00:00'), 0, 133],\n",
       "       ['Returnees from China', 0, 5474, 11727,\n",
       "        Timestamp('2020-03-27 00:00:00'), 0, 267],\n",
       "       ['Returnees from Iran', 0, 9489, 7115,\n",
       "        Timestamp('2020-03-28 00:00:00'), 0, 192],\n",
       "       ['Returnees from China', 0, 5474, 12247,\n",
       "        Timestamp('2020-03-28 00:00:00'), 0, 520],\n",
       "       ['Returnees from Iran', 0, 9489, 7115,\n",
       "        Timestamp('2020-03-29 00:00:00'), 0, 0],\n",
       "       ['Returnees from China', 0, 5474, 12409,\n",
       "        Timestamp('2020-03-29 00:00:00'), 0, 162],\n",
       "       ['Returnees from Iran', 0, 9489, 7215,\n",
       "        Timestamp('2020-03-30 00:00:00'), 0, 100],\n",
       "       ['Returnees from China', 0, 5474, 12480,\n",
       "        Timestamp('2020-03-30 00:00:00'), 0, 71]], dtype=object)"
      ]
     },
     "execution_count": 37,
     "metadata": {},
     "output_type": "execute_result"
    }
   ],
   "source": [
    "df.values"
   ]
  },
  {
   "cell_type": "code",
   "execution_count": 38,
   "metadata": {},
   "outputs": [
    {
     "data": {
      "text/plain": [
       "Returnees                                   object\n",
       "Advised_Self_Quarantine                      int64\n",
       "Cumulative_no_offirst_time_calls             int64\n",
       "Cumulative_follow_up_calls                   int64\n",
       "Date                                datetime64[ns]\n",
       "First_time_calls_inpast_24_hrs               int64\n",
       "Follow_up_calls_inpast_24_hrs                int64\n",
       "dtype: object"
      ]
     },
     "execution_count": 38,
     "metadata": {},
     "output_type": "execute_result"
    }
   ],
   "source": [
    "df.dtypes"
   ]
  },
  {
   "cell_type": "code",
   "execution_count": 39,
   "metadata": {},
   "outputs": [],
   "source": [
    "df['Returnees'] = df.Returnees.astype(str)"
   ]
  },
  {
   "cell_type": "code",
   "execution_count": 40,
   "metadata": {},
   "outputs": [
    {
     "data": {
      "text/plain": [
       "Returnees                                   object\n",
       "Advised_Self_Quarantine                      int64\n",
       "Cumulative_no_offirst_time_calls             int64\n",
       "Cumulative_follow_up_calls                   int64\n",
       "Date                                datetime64[ns]\n",
       "First_time_calls_inpast_24_hrs               int64\n",
       "Follow_up_calls_inpast_24_hrs                int64\n",
       "dtype: object"
      ]
     },
     "execution_count": 40,
     "metadata": {},
     "output_type": "execute_result"
    }
   ],
   "source": [
    "df.dtypes"
   ]
  },
  {
   "cell_type": "code",
   "execution_count": 41,
   "metadata": {},
   "outputs": [],
   "source": [
    "df['Date']=pd.to_datetime(df.Date)"
   ]
  },
  {
   "cell_type": "code",
   "execution_count": 42,
   "metadata": {},
   "outputs": [
    {
     "data": {
      "text/plain": [
       "0    2020-03-11\n",
       "1    2020-03-11\n",
       "2    2020-03-12\n",
       "3    2020-03-12\n",
       "4    2020-03-13\n",
       "5    2020-03-13\n",
       "6    2020-03-14\n",
       "7    2020-03-14\n",
       "8    2020-03-15\n",
       "9    2020-03-15\n",
       "10   2020-03-16\n",
       "11   2020-03-16\n",
       "12   2020-03-17\n",
       "13   2020-03-17\n",
       "14   2020-03-18\n",
       "15   2020-03-18\n",
       "16   2020-03-19\n",
       "17   2020-03-19\n",
       "18   2020-03-20\n",
       "19   2020-03-20\n",
       "20   2020-03-21\n",
       "21   2020-03-21\n",
       "22   2020-03-22\n",
       "23   2020-03-22\n",
       "24   2020-03-23\n",
       "25   2020-03-23\n",
       "26   2020-03-24\n",
       "27   2020-03-24\n",
       "28   2020-03-25\n",
       "29   2020-03-25\n",
       "30   2020-03-26\n",
       "31   2020-03-26\n",
       "32   2020-03-27\n",
       "33   2020-03-27\n",
       "34   2020-03-28\n",
       "35   2020-03-28\n",
       "36   2020-03-29\n",
       "37   2020-03-29\n",
       "38   2020-03-30\n",
       "39   2020-03-30\n",
       "Name: Date, dtype: datetime64[ns]"
      ]
     },
     "execution_count": 42,
     "metadata": {},
     "output_type": "execute_result"
    }
   ],
   "source": [
    "df['Date']"
   ]
  },
  {
   "cell_type": "code",
   "execution_count": 43,
   "metadata": {},
   "outputs": [
    {
     "data": {
      "text/plain": [
       "Returnees                                   object\n",
       "Advised_Self_Quarantine                      int64\n",
       "Cumulative_no_offirst_time_calls             int64\n",
       "Cumulative_follow_up_calls                   int64\n",
       "Date                                datetime64[ns]\n",
       "First_time_calls_inpast_24_hrs               int64\n",
       "Follow_up_calls_inpast_24_hrs                int64\n",
       "dtype: object"
      ]
     },
     "execution_count": 43,
     "metadata": {},
     "output_type": "execute_result"
    }
   ],
   "source": [
    "df.dtypes"
   ]
  },
  {
   "cell_type": "code",
   "execution_count": 44,
   "metadata": {},
   "outputs": [
    {
     "data": {
      "text/plain": [
       "False"
      ]
     },
     "execution_count": 44,
     "metadata": {},
     "output_type": "execute_result"
    }
   ],
   "source": [
    "df.duplicated().any()"
   ]
  },
  {
   "cell_type": "code",
   "execution_count": 45,
   "metadata": {},
   "outputs": [
    {
     "data": {
      "text/html": [
       "<div>\n",
       "<style scoped>\n",
       "    .dataframe tbody tr th:only-of-type {\n",
       "        vertical-align: middle;\n",
       "    }\n",
       "\n",
       "    .dataframe tbody tr th {\n",
       "        vertical-align: top;\n",
       "    }\n",
       "\n",
       "    .dataframe thead th {\n",
       "        text-align: right;\n",
       "    }\n",
       "</style>\n",
       "<table border=\"1\" class=\"dataframe\">\n",
       "  <thead>\n",
       "    <tr style=\"text-align: right;\">\n",
       "      <th></th>\n",
       "      <th>Advised_Self_Quarantine</th>\n",
       "      <th>Cumulative_no_offirst_time_calls</th>\n",
       "      <th>Cumulative_follow_up_calls</th>\n",
       "      <th>First_time_calls_inpast_24_hrs</th>\n",
       "      <th>Follow_up_calls_inpast_24_hrs</th>\n",
       "    </tr>\n",
       "  </thead>\n",
       "  <tbody>\n",
       "    <tr>\n",
       "      <td>count</td>\n",
       "      <td>40.000000</td>\n",
       "      <td>40.0000</td>\n",
       "      <td>40.000000</td>\n",
       "      <td>40.000000</td>\n",
       "      <td>40.000000</td>\n",
       "    </tr>\n",
       "    <tr>\n",
       "      <td>mean</td>\n",
       "      <td>2.675000</td>\n",
       "      <td>7459.1750</td>\n",
       "      <td>7681.400000</td>\n",
       "      <td>4.475000</td>\n",
       "      <td>257.025000</td>\n",
       "    </tr>\n",
       "    <tr>\n",
       "      <td>std</td>\n",
       "      <td>4.654127</td>\n",
       "      <td>2051.8788</td>\n",
       "      <td>2637.384425</td>\n",
       "      <td>7.410967</td>\n",
       "      <td>197.717033</td>\n",
       "    </tr>\n",
       "    <tr>\n",
       "      <td>min</td>\n",
       "      <td>0.000000</td>\n",
       "      <td>5342.0000</td>\n",
       "      <td>2553.000000</td>\n",
       "      <td>0.000000</td>\n",
       "      <td>0.000000</td>\n",
       "    </tr>\n",
       "    <tr>\n",
       "      <td>25%</td>\n",
       "      <td>0.000000</td>\n",
       "      <td>5461.0000</td>\n",
       "      <td>5888.500000</td>\n",
       "      <td>0.000000</td>\n",
       "      <td>94.250000</td>\n",
       "    </tr>\n",
       "    <tr>\n",
       "      <td>50%</td>\n",
       "      <td>0.000000</td>\n",
       "      <td>7466.5000</td>\n",
       "      <td>7480.500000</td>\n",
       "      <td>0.000000</td>\n",
       "      <td>250.500000</td>\n",
       "    </tr>\n",
       "    <tr>\n",
       "      <td>75%</td>\n",
       "      <td>3.000000</td>\n",
       "      <td>9488.2500</td>\n",
       "      <td>9458.500000</td>\n",
       "      <td>8.000000</td>\n",
       "      <td>404.000000</td>\n",
       "    </tr>\n",
       "    <tr>\n",
       "      <td>max</td>\n",
       "      <td>16.000000</td>\n",
       "      <td>9489.0000</td>\n",
       "      <td>12480.000000</td>\n",
       "      <td>26.000000</td>\n",
       "      <td>719.000000</td>\n",
       "    </tr>\n",
       "  </tbody>\n",
       "</table>\n",
       "</div>"
      ],
      "text/plain": [
       "       Advised_Self_Quarantine  Cumulative_no_offirst_time_calls  \\\n",
       "count                40.000000                           40.0000   \n",
       "mean                  2.675000                         7459.1750   \n",
       "std                   4.654127                         2051.8788   \n",
       "min                   0.000000                         5342.0000   \n",
       "25%                   0.000000                         5461.0000   \n",
       "50%                   0.000000                         7466.5000   \n",
       "75%                   3.000000                         9488.2500   \n",
       "max                  16.000000                         9489.0000   \n",
       "\n",
       "       Cumulative_follow_up_calls  First_time_calls_inpast_24_hrs  \\\n",
       "count                   40.000000                       40.000000   \n",
       "mean                  7681.400000                        4.475000   \n",
       "std                   2637.384425                        7.410967   \n",
       "min                   2553.000000                        0.000000   \n",
       "25%                   5888.500000                        0.000000   \n",
       "50%                   7480.500000                        0.000000   \n",
       "75%                   9458.500000                        8.000000   \n",
       "max                  12480.000000                       26.000000   \n",
       "\n",
       "       Follow_up_calls_inpast_24_hrs  \n",
       "count                      40.000000  \n",
       "mean                      257.025000  \n",
       "std                       197.717033  \n",
       "min                         0.000000  \n",
       "25%                        94.250000  \n",
       "50%                       250.500000  \n",
       "75%                       404.000000  \n",
       "max                       719.000000  "
      ]
     },
     "execution_count": 45,
     "metadata": {},
     "output_type": "execute_result"
    }
   ],
   "source": [
    "df.describe() #data is cleaned"
   ]
  },
  {
   "cell_type": "code",
   "execution_count": 46,
   "metadata": {},
   "outputs": [],
   "source": [
    "df.to_excel('D:\\TimeSeries_Action_Call.xlsx') #after Changings it will save them in excel file"
   ]
  },
  {
   "cell_type": "code",
   "execution_count": null,
   "metadata": {},
   "outputs": [],
   "source": []
  }
 ],
 "metadata": {
  "kernelspec": {
   "display_name": "Python 3",
   "language": "python",
   "name": "python3"
  },
  "language_info": {
   "codemirror_mode": {
    "name": "ipython",
    "version": 3
   },
   "file_extension": ".py",
   "mimetype": "text/x-python",
   "name": "python",
   "nbconvert_exporter": "python",
   "pygments_lexer": "ipython3",
   "version": "3.7.4"
  }
 },
 "nbformat": 4,
 "nbformat_minor": 2
}
