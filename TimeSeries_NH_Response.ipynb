{
 "cells": [
  {
   "cell_type": "code",
   "execution_count": 1,
   "metadata": {},
   "outputs": [],
   "source": [
    "import pandas as pd\n",
    "import numpy as np"
   ]
  },
  {
   "cell_type": "code",
   "execution_count": 2,
   "metadata": {},
   "outputs": [],
   "source": [
    "df=pd.read_excel('D:\\TimeSeries_NH_Response.xlsx')"
   ]
  },
  {
   "cell_type": "code",
   "execution_count": 3,
   "metadata": {},
   "outputs": [
    {
     "data": {
      "text/html": [
       "<div>\n",
       "<style scoped>\n",
       "    .dataframe tbody tr th:only-of-type {\n",
       "        vertical-align: middle;\n",
       "    }\n",
       "\n",
       "    .dataframe tbody tr th {\n",
       "        vertical-align: top;\n",
       "    }\n",
       "\n",
       "    .dataframe thead th {\n",
       "        text-align: right;\n",
       "    }\n",
       "</style>\n",
       "<table border=\"1\" class=\"dataframe\">\n",
       "  <thead>\n",
       "    <tr style=\"text-align: right;\">\n",
       "      <th></th>\n",
       "      <th>Unnamed: 0</th>\n",
       "      <th>Date</th>\n",
       "      <th>NIH Preparedness and Response</th>\n",
       "      <th>Agg NIH Preparedness and Response</th>\n",
       "    </tr>\n",
       "  </thead>\n",
       "  <tbody>\n",
       "    <tr>\n",
       "      <td>0</td>\n",
       "      <td>0</td>\n",
       "      <td>11-Mar-2020</td>\n",
       "      <td>BSL-3 mobile lab with state of art equipment h...</td>\n",
       "      <td>BSL-3 mobile lab with state of art equipment h...</td>\n",
       "    </tr>\n",
       "    <tr>\n",
       "      <td>1</td>\n",
       "      <td>1</td>\n",
       "      <td>11-Mar-2020</td>\n",
       "      <td>IPC trainings have been completed at Gilgit an...</td>\n",
       "      <td>BSL-3 mobile lab with state of art equipment h...</td>\n",
       "    </tr>\n",
       "    <tr>\n",
       "      <td>2</td>\n",
       "      <td>2</td>\n",
       "      <td>11-Mar-2020</td>\n",
       "      <td>Training of the GB lab staff has been conducte...</td>\n",
       "      <td>BSL-3 mobile lab with state of art equipment h...</td>\n",
       "    </tr>\n",
       "    <tr>\n",
       "      <td>3</td>\n",
       "      <td>3</td>\n",
       "      <td>11-Mar-2020</td>\n",
       "      <td>IPC training is in progress for FG Hospital st...</td>\n",
       "      <td>BSL-3 mobile lab with state of art equipment h...</td>\n",
       "    </tr>\n",
       "    <tr>\n",
       "      <td>4</td>\n",
       "      <td>0</td>\n",
       "      <td>12-Mar-2020</td>\n",
       "      <td>BSL-3 mobile lab is ready for testing.  •</td>\n",
       "      <td>BSL-3 mobile lab is ready for testing.  • \\n I...</td>\n",
       "    </tr>\n",
       "  </tbody>\n",
       "</table>\n",
       "</div>"
      ],
      "text/plain": [
       "   Unnamed: 0         Date                      NIH Preparedness and Response  \\\n",
       "0           0  11-Mar-2020  BSL-3 mobile lab with state of art equipment h...   \n",
       "1           1  11-Mar-2020  IPC trainings have been completed at Gilgit an...   \n",
       "2           2  11-Mar-2020  Training of the GB lab staff has been conducte...   \n",
       "3           3  11-Mar-2020  IPC training is in progress for FG Hospital st...   \n",
       "4           0  12-Mar-2020          BSL-3 mobile lab is ready for testing.  •   \n",
       "\n",
       "                   Agg NIH Preparedness and Response  \n",
       "0  BSL-3 mobile lab with state of art equipment h...  \n",
       "1  BSL-3 mobile lab with state of art equipment h...  \n",
       "2  BSL-3 mobile lab with state of art equipment h...  \n",
       "3  BSL-3 mobile lab with state of art equipment h...  \n",
       "4  BSL-3 mobile lab is ready for testing.  • \\n I...  "
      ]
     },
     "execution_count": 3,
     "metadata": {},
     "output_type": "execute_result"
    }
   ],
   "source": [
    "df.head()"
   ]
  },
  {
   "cell_type": "code",
   "execution_count": 4,
   "metadata": {},
   "outputs": [],
   "source": [
    "df.drop('Unnamed: 0',axis=1,inplace=True)"
   ]
  },
  {
   "cell_type": "code",
   "execution_count": 5,
   "metadata": {},
   "outputs": [
    {
     "data": {
      "text/plain": [
       "Date                                 0\n",
       "NIH Preparedness and Response        0\n",
       "Agg NIH Preparedness and Response    0\n",
       "dtype: int64"
      ]
     },
     "execution_count": 5,
     "metadata": {},
     "output_type": "execute_result"
    }
   ],
   "source": [
    "df.isnull().sum()"
   ]
  },
  {
   "cell_type": "code",
   "execution_count": 6,
   "metadata": {},
   "outputs": [
    {
     "data": {
      "text/plain": [
       "Date                                 object\n",
       "NIH Preparedness and Response        object\n",
       "Agg NIH Preparedness and Response    object\n",
       "dtype: object"
      ]
     },
     "execution_count": 6,
     "metadata": {},
     "output_type": "execute_result"
    }
   ],
   "source": [
    "df.dtypes"
   ]
  },
  {
   "cell_type": "code",
   "execution_count": 7,
   "metadata": {},
   "outputs": [],
   "source": [
    "df['Date']=pd.to_datetime(df.Date)"
   ]
  },
  {
   "cell_type": "code",
   "execution_count": 8,
   "metadata": {},
   "outputs": [
    {
     "data": {
      "text/plain": [
       "Date                                 datetime64[ns]\n",
       "NIH Preparedness and Response                object\n",
       "Agg NIH Preparedness and Response            object\n",
       "dtype: object"
      ]
     },
     "execution_count": 8,
     "metadata": {},
     "output_type": "execute_result"
    }
   ],
   "source": [
    "df.dtypes"
   ]
  },
  {
   "cell_type": "code",
   "execution_count": 9,
   "metadata": {},
   "outputs": [
    {
     "data": {
      "text/plain": [
       "0    2020-03-11\n",
       "1    2020-03-11\n",
       "2    2020-03-11\n",
       "3    2020-03-11\n",
       "4    2020-03-12\n",
       "        ...    \n",
       "60   2020-04-02\n",
       "61   2020-04-02\n",
       "62   2020-04-03\n",
       "63   2020-04-03\n",
       "64   2020-04-03\n",
       "Name: Date, Length: 65, dtype: datetime64[ns]"
      ]
     },
     "execution_count": 9,
     "metadata": {},
     "output_type": "execute_result"
    }
   ],
   "source": [
    "df['Date']"
   ]
  },
  {
   "cell_type": "code",
   "execution_count": 10,
   "metadata": {},
   "outputs": [
    {
     "name": "stdout",
     "output_type": "stream",
     "text": [
      "<class 'pandas.core.frame.DataFrame'>\n",
      "RangeIndex: 65 entries, 0 to 64\n",
      "Data columns (total 3 columns):\n",
      "Date                                 65 non-null datetime64[ns]\n",
      "NIH Preparedness and Response        65 non-null object\n",
      "Agg NIH Preparedness and Response    65 non-null object\n",
      "dtypes: datetime64[ns](1), object(2)\n",
      "memory usage: 1.6+ KB\n"
     ]
    }
   ],
   "source": [
    "df.info()"
   ]
  },
  {
   "cell_type": "code",
   "execution_count": 11,
   "metadata": {},
   "outputs": [],
   "source": [
    "df.columns=df.columns.str.strip().str.replace(' ','_')"
   ]
  },
  {
   "cell_type": "code",
   "execution_count": 12,
   "metadata": {},
   "outputs": [
    {
     "data": {
      "text/html": [
       "<div>\n",
       "<style scoped>\n",
       "    .dataframe tbody tr th:only-of-type {\n",
       "        vertical-align: middle;\n",
       "    }\n",
       "\n",
       "    .dataframe tbody tr th {\n",
       "        vertical-align: top;\n",
       "    }\n",
       "\n",
       "    .dataframe thead th {\n",
       "        text-align: right;\n",
       "    }\n",
       "</style>\n",
       "<table border=\"1\" class=\"dataframe\">\n",
       "  <thead>\n",
       "    <tr style=\"text-align: right;\">\n",
       "      <th></th>\n",
       "      <th>Date</th>\n",
       "      <th>NIH_Preparedness_and_Response</th>\n",
       "      <th>Agg_NIH_Preparedness_and_Response</th>\n",
       "    </tr>\n",
       "  </thead>\n",
       "  <tbody>\n",
       "    <tr>\n",
       "      <td>0</td>\n",
       "      <td>2020-03-11</td>\n",
       "      <td>BSL-3 mobile lab with state of art equipment h...</td>\n",
       "      <td>BSL-3 mobile lab with state of art equipment h...</td>\n",
       "    </tr>\n",
       "    <tr>\n",
       "      <td>1</td>\n",
       "      <td>2020-03-11</td>\n",
       "      <td>IPC trainings have been completed at Gilgit an...</td>\n",
       "      <td>BSL-3 mobile lab with state of art equipment h...</td>\n",
       "    </tr>\n",
       "    <tr>\n",
       "      <td>2</td>\n",
       "      <td>2020-03-11</td>\n",
       "      <td>Training of the GB lab staff has been conducte...</td>\n",
       "      <td>BSL-3 mobile lab with state of art equipment h...</td>\n",
       "    </tr>\n",
       "    <tr>\n",
       "      <td>3</td>\n",
       "      <td>2020-03-11</td>\n",
       "      <td>IPC training is in progress for FG Hospital st...</td>\n",
       "      <td>BSL-3 mobile lab with state of art equipment h...</td>\n",
       "    </tr>\n",
       "    <tr>\n",
       "      <td>4</td>\n",
       "      <td>2020-03-12</td>\n",
       "      <td>BSL-3 mobile lab is ready for testing.  •</td>\n",
       "      <td>BSL-3 mobile lab is ready for testing.  • \\n I...</td>\n",
       "    </tr>\n",
       "  </tbody>\n",
       "</table>\n",
       "</div>"
      ],
      "text/plain": [
       "        Date                      NIH_Preparedness_and_Response  \\\n",
       "0 2020-03-11  BSL-3 mobile lab with state of art equipment h...   \n",
       "1 2020-03-11  IPC trainings have been completed at Gilgit an...   \n",
       "2 2020-03-11  Training of the GB lab staff has been conducte...   \n",
       "3 2020-03-11  IPC training is in progress for FG Hospital st...   \n",
       "4 2020-03-12          BSL-3 mobile lab is ready for testing.  •   \n",
       "\n",
       "                   Agg_NIH_Preparedness_and_Response  \n",
       "0  BSL-3 mobile lab with state of art equipment h...  \n",
       "1  BSL-3 mobile lab with state of art equipment h...  \n",
       "2  BSL-3 mobile lab with state of art equipment h...  \n",
       "3  BSL-3 mobile lab with state of art equipment h...  \n",
       "4  BSL-3 mobile lab is ready for testing.  • \\n I...  "
      ]
     },
     "execution_count": 12,
     "metadata": {},
     "output_type": "execute_result"
    }
   ],
   "source": [
    "df.head()"
   ]
  },
  {
   "cell_type": "code",
   "execution_count": 13,
   "metadata": {},
   "outputs": [
    {
     "data": {
      "text/plain": [
       "False"
      ]
     },
     "execution_count": 13,
     "metadata": {},
     "output_type": "execute_result"
    }
   ],
   "source": [
    "df.duplicated().any()"
   ]
  },
  {
   "cell_type": "code",
   "execution_count": 14,
   "metadata": {},
   "outputs": [
    {
     "data": {
      "text/html": [
       "<div>\n",
       "<style scoped>\n",
       "    .dataframe tbody tr th:only-of-type {\n",
       "        vertical-align: middle;\n",
       "    }\n",
       "\n",
       "    .dataframe tbody tr th {\n",
       "        vertical-align: top;\n",
       "    }\n",
       "\n",
       "    .dataframe thead th {\n",
       "        text-align: right;\n",
       "    }\n",
       "</style>\n",
       "<table border=\"1\" class=\"dataframe\">\n",
       "  <thead>\n",
       "    <tr style=\"text-align: right;\">\n",
       "      <th></th>\n",
       "      <th>Date</th>\n",
       "      <th>NIH_Preparedness_and_Response</th>\n",
       "      <th>Agg_NIH_Preparedness_and_Response</th>\n",
       "    </tr>\n",
       "  </thead>\n",
       "  <tbody>\n",
       "    <tr>\n",
       "      <td>count</td>\n",
       "      <td>65</td>\n",
       "      <td>65</td>\n",
       "      <td>65</td>\n",
       "    </tr>\n",
       "    <tr>\n",
       "      <td>unique</td>\n",
       "      <td>24</td>\n",
       "      <td>21</td>\n",
       "      <td>11</td>\n",
       "    </tr>\n",
       "    <tr>\n",
       "      <td>top</td>\n",
       "      <td>2020-03-11 00:00:00</td>\n",
       "      <td>Contact tracing of confirmed cases being carri...</td>\n",
       "      <td>Contact tracing of confirmed cases being carri...</td>\n",
       "    </tr>\n",
       "    <tr>\n",
       "      <td>freq</td>\n",
       "      <td>4</td>\n",
       "      <td>9</td>\n",
       "      <td>21</td>\n",
       "    </tr>\n",
       "    <tr>\n",
       "      <td>first</td>\n",
       "      <td>2020-03-11 00:00:00</td>\n",
       "      <td>NaN</td>\n",
       "      <td>NaN</td>\n",
       "    </tr>\n",
       "    <tr>\n",
       "      <td>last</td>\n",
       "      <td>2020-04-03 00:00:00</td>\n",
       "      <td>NaN</td>\n",
       "      <td>NaN</td>\n",
       "    </tr>\n",
       "  </tbody>\n",
       "</table>\n",
       "</div>"
      ],
      "text/plain": [
       "                       Date  \\\n",
       "count                    65   \n",
       "unique                   24   \n",
       "top     2020-03-11 00:00:00   \n",
       "freq                      4   \n",
       "first   2020-03-11 00:00:00   \n",
       "last    2020-04-03 00:00:00   \n",
       "\n",
       "                            NIH_Preparedness_and_Response  \\\n",
       "count                                                  65   \n",
       "unique                                                 21   \n",
       "top     Contact tracing of confirmed cases being carri...   \n",
       "freq                                                    9   \n",
       "first                                                 NaN   \n",
       "last                                                  NaN   \n",
       "\n",
       "                        Agg_NIH_Preparedness_and_Response  \n",
       "count                                                  65  \n",
       "unique                                                 11  \n",
       "top     Contact tracing of confirmed cases being carri...  \n",
       "freq                                                   21  \n",
       "first                                                 NaN  \n",
       "last                                                  NaN  "
      ]
     },
     "execution_count": 14,
     "metadata": {},
     "output_type": "execute_result"
    }
   ],
   "source": [
    "df.describe() #data is cleaned"
   ]
  },
  {
   "cell_type": "code",
   "execution_count": 16,
   "metadata": {},
   "outputs": [],
   "source": [
    "df.to_excel(\"D:\\TimeSeries_NH_Response.xlsx\") #save the file with changings"
   ]
  },
  {
   "cell_type": "code",
   "execution_count": null,
   "metadata": {},
   "outputs": [],
   "source": []
  }
 ],
 "metadata": {
  "kernelspec": {
   "display_name": "Python 3",
   "language": "python",
   "name": "python3"
  },
  "language_info": {
   "codemirror_mode": {
    "name": "ipython",
    "version": 3
   },
   "file_extension": ".py",
   "mimetype": "text/x-python",
   "name": "python",
   "nbconvert_exporter": "python",
   "pygments_lexer": "ipython3",
   "version": "3.7.4"
  }
 },
 "nbformat": 4,
 "nbformat_minor": 2
}
